{
 "cells": [
  {
   "cell_type": "code",
   "execution_count": 2,
   "id": "18035bff",
   "metadata": {},
   "outputs": [],
   "source": [
    "import os\n",
    "from dotenv import load_dotenv\n",
    "from openai import OpenAI\n",
    "from typing import TypedDict\n",
    "from langchain_openai import ChatOpenAI\n",
    "from langchain.agents import create_agent, AgentState\n",
    "from langchain.tools import tool \n",
    "import os\n",
    "from langchain.agents.middleware import wrap_tool_call, dynamic_prompt, ModelRequest\n",
    "from langchain_core.messages import ToolMessage\n",
    "from pydantic import BaseModel, Field\n",
    "from typing import Optional\n",
    "import pandas as pd\n",
    "from search_food import RAGSystem, Text\n",
    "#from my_tools import get_recipes_by_ingredients\n"
   ]
  },
  {
   "cell_type": "code",
   "execution_count": 3,
   "id": "eb827ef9",
   "metadata": {},
   "outputs": [
    {
     "name": "stdout",
     "output_type": "stream",
     "text": [
      "Векторная БД загружена из файла\n"
     ]
    }
   ],
   "source": [
    "txt = Text(\"saved_txt.txt\")\n",
    "rag = RAGSystem(txt)"
   ]
  },
  {
   "cell_type": "code",
   "execution_count": 4,
   "id": "3e385733",
   "metadata": {},
   "outputs": [
    {
     "data": {
      "text/html": [
       "<div>\n",
       "<style scoped>\n",
       "    .dataframe tbody tr th:only-of-type {\n",
       "        vertical-align: middle;\n",
       "    }\n",
       "\n",
       "    .dataframe tbody tr th {\n",
       "        vertical-align: top;\n",
       "    }\n",
       "\n",
       "    .dataframe thead th {\n",
       "        text-align: right;\n",
       "    }\n",
       "</style>\n",
       "<table border=\"1\" class=\"dataframe\">\n",
       "  <thead>\n",
       "    <tr style=\"text-align: right;\">\n",
       "      <th></th>\n",
       "      <th>Product</th>\n",
       "      <th>squirrels</th>\n",
       "      <th>fats</th>\n",
       "      <th>carbohydrates</th>\n",
       "      <th>callories</th>\n",
       "      <th>squirrels_avg</th>\n",
       "      <th>fats_avg</th>\n",
       "      <th>carbohydrates_avg</th>\n",
       "      <th>callories_avg</th>\n",
       "    </tr>\n",
       "  </thead>\n",
       "  <tbody>\n",
       "    <tr>\n",
       "      <th>0</th>\n",
       "      <td>Хлеб пшеничный из муки высшего сорта</td>\n",
       "      <td>7,5-7,6</td>\n",
       "      <td>0,8-2,9</td>\n",
       "      <td>49,2-51,4</td>\n",
       "      <td>235-262</td>\n",
       "      <td>7.55</td>\n",
       "      <td>1.85</td>\n",
       "      <td>50.3</td>\n",
       "      <td>248.5</td>\n",
       "    </tr>\n",
       "    <tr>\n",
       "      <th>1</th>\n",
       "      <td>Хлеб пшеничный из муки 1 сорта</td>\n",
       "      <td>7.6</td>\n",
       "      <td>0.9</td>\n",
       "      <td>49.7</td>\n",
       "      <td>226</td>\n",
       "      <td>7.60</td>\n",
       "      <td>0.90</td>\n",
       "      <td>49.7</td>\n",
       "      <td>226.0</td>\n",
       "    </tr>\n",
       "    <tr>\n",
       "      <th>2</th>\n",
       "      <td>Хлеб из ржано-пшеничной муки</td>\n",
       "      <td>6.8</td>\n",
       "      <td>1.2</td>\n",
       "      <td>46.4</td>\n",
       "      <td>215</td>\n",
       "      <td>6.80</td>\n",
       "      <td>1.20</td>\n",
       "      <td>46.4</td>\n",
       "      <td>215.0</td>\n",
       "    </tr>\n",
       "    <tr>\n",
       "      <th>3</th>\n",
       "      <td>Хлеб ржаной</td>\n",
       "      <td>4.7</td>\n",
       "      <td>0.7</td>\n",
       "      <td>49.8</td>\n",
       "      <td>214</td>\n",
       "      <td>4.70</td>\n",
       "      <td>0.70</td>\n",
       "      <td>49.8</td>\n",
       "      <td>214.0</td>\n",
       "    </tr>\n",
       "    <tr>\n",
       "      <th>4</th>\n",
       "      <td>Хлеб \"Бородинский\"</td>\n",
       "      <td>6.9</td>\n",
       "      <td>1.3</td>\n",
       "      <td>40.9</td>\n",
       "      <td>208</td>\n",
       "      <td>6.90</td>\n",
       "      <td>1.30</td>\n",
       "      <td>40.9</td>\n",
       "      <td>208.0</td>\n",
       "    </tr>\n",
       "    <tr>\n",
       "      <th>...</th>\n",
       "      <td>...</td>\n",
       "      <td>...</td>\n",
       "      <td>...</td>\n",
       "      <td>...</td>\n",
       "      <td>...</td>\n",
       "      <td>...</td>\n",
       "      <td>...</td>\n",
       "      <td>...</td>\n",
       "      <td>...</td>\n",
       "    </tr>\n",
       "    <tr>\n",
       "      <th>631</th>\n",
       "      <td>Саке</td>\n",
       "      <td>0.5</td>\n",
       "      <td>-</td>\n",
       "      <td>5</td>\n",
       "      <td>134</td>\n",
       "      <td>0.50</td>\n",
       "      <td>NaN</td>\n",
       "      <td>5.0</td>\n",
       "      <td>134.0</td>\n",
       "    </tr>\n",
       "    <tr>\n",
       "      <th>632</th>\n",
       "      <td>Самогон</td>\n",
       "      <td>0.1</td>\n",
       "      <td>0.1</td>\n",
       "      <td>0.4</td>\n",
       "      <td>235</td>\n",
       "      <td>0.10</td>\n",
       "      <td>0.10</td>\n",
       "      <td>0.4</td>\n",
       "      <td>235.0</td>\n",
       "    </tr>\n",
       "    <tr>\n",
       "      <th>633</th>\n",
       "      <td>Спирт этиловый 96%</td>\n",
       "      <td>4</td>\n",
       "      <td>-</td>\n",
       "      <td>3.8</td>\n",
       "      <td>710</td>\n",
       "      <td>4.00</td>\n",
       "      <td>NaN</td>\n",
       "      <td>3.8</td>\n",
       "      <td>710.0</td>\n",
       "    </tr>\n",
       "    <tr>\n",
       "      <th>634</th>\n",
       "      <td>Текила</td>\n",
       "      <td>1.4</td>\n",
       "      <td>0.3</td>\n",
       "      <td>24</td>\n",
       "      <td>231</td>\n",
       "      <td>1.40</td>\n",
       "      <td>0.30</td>\n",
       "      <td>24.0</td>\n",
       "      <td>231.0</td>\n",
       "    </tr>\n",
       "    <tr>\n",
       "      <th>635</th>\n",
       "      <td>Чача</td>\n",
       "      <td>0.1</td>\n",
       "      <td>0.1</td>\n",
       "      <td>0.5</td>\n",
       "      <td>225</td>\n",
       "      <td>0.10</td>\n",
       "      <td>0.10</td>\n",
       "      <td>0.5</td>\n",
       "      <td>225.0</td>\n",
       "    </tr>\n",
       "  </tbody>\n",
       "</table>\n",
       "<p>636 rows × 9 columns</p>\n",
       "</div>"
      ],
      "text/plain": [
       "                                  Product squirrels     fats carbohydrates  \\\n",
       "0    Хлеб пшеничный из муки высшего сорта   7,5-7,6  0,8-2,9     49,2-51,4   \n",
       "1          Хлеб пшеничный из муки 1 сорта       7.6      0.9          49.7   \n",
       "2            Хлеб из ржано-пшеничной муки       6.8      1.2          46.4   \n",
       "3                             Хлеб ржаной       4.7      0.7          49.8   \n",
       "4                      Хлеб \"Бородинский\"       6.9      1.3          40.9   \n",
       "..                                    ...       ...      ...           ...   \n",
       "631                                  Саке       0.5        -             5   \n",
       "632                               Самогон       0.1      0.1           0.4   \n",
       "633                    Спирт этиловый 96%         4        -           3.8   \n",
       "634                                Текила       1.4      0.3            24   \n",
       "635                                  Чача       0.1      0.1           0.5   \n",
       "\n",
       "    callories  squirrels_avg  fats_avg  carbohydrates_avg  callories_avg  \n",
       "0     235-262           7.55      1.85               50.3          248.5  \n",
       "1         226           7.60      0.90               49.7          226.0  \n",
       "2         215           6.80      1.20               46.4          215.0  \n",
       "3         214           4.70      0.70               49.8          214.0  \n",
       "4         208           6.90      1.30               40.9          208.0  \n",
       "..        ...            ...       ...                ...            ...  \n",
       "631       134           0.50       NaN                5.0          134.0  \n",
       "632       235           0.10      0.10                0.4          235.0  \n",
       "633       710           4.00       NaN                3.8          710.0  \n",
       "634       231           1.40      0.30               24.0          231.0  \n",
       "635       225           0.10      0.10                0.5          225.0  \n",
       "\n",
       "[636 rows x 9 columns]"
      ]
     },
     "execution_count": 4,
     "metadata": {},
     "output_type": "execute_result"
    }
   ],
   "source": [
    "\n",
    "kk = pd.read_excel(\"kk.xlsx\")\n",
    "\n",
    "def parse_range(value):\n",
    "    \"\"\"Преобразует строку с диапазоном в среднее число\"\"\"\n",
    "    if pd.isna(value):\n",
    "        return None\n",
    "    try:\n",
    "        # Заменяем запятые на точки и разделяем по дефису\n",
    "        parts = str(value).replace(',', '.').split('-')\n",
    "        # Убираем пробелы и преобразуем в числа\n",
    "        numbers = [float(part.strip()) for part in parts]\n",
    "        # Возвращаем среднее значение\n",
    "        return sum(numbers) / len(numbers)\n",
    "    except:\n",
    "        return None\n",
    "\n",
    "# Применяем ко всем столбцам с диапазонами\n",
    "kk['squirrels_avg'] = kk['squirrels'].apply(parse_range)\n",
    "kk['fats_avg'] = kk['fats'].apply(parse_range)\n",
    "kk['carbohydrates_avg'] = kk['carbohydrates'].apply(parse_range)\n",
    "kk['callories_avg'] = kk['callories'].apply(parse_range)\n",
    "kk"
   ]
  },
  {
   "cell_type": "code",
   "execution_count": 5,
   "id": "3dccdc55",
   "metadata": {},
   "outputs": [
    {
     "data": {
      "text/html": [
       "<div>\n",
       "<style scoped>\n",
       "    .dataframe tbody tr th:only-of-type {\n",
       "        vertical-align: middle;\n",
       "    }\n",
       "\n",
       "    .dataframe tbody tr th {\n",
       "        vertical-align: top;\n",
       "    }\n",
       "\n",
       "    .dataframe thead th {\n",
       "        text-align: right;\n",
       "    }\n",
       "</style>\n",
       "<table border=\"1\" class=\"dataframe\">\n",
       "  <thead>\n",
       "    <tr style=\"text-align: right;\">\n",
       "      <th></th>\n",
       "      <th>Product</th>\n",
       "      <th>squirrels</th>\n",
       "      <th>fats</th>\n",
       "      <th>carbohydrates</th>\n",
       "      <th>callories</th>\n",
       "      <th>squirrels_avg</th>\n",
       "      <th>fats_avg</th>\n",
       "      <th>carbohydrates_avg</th>\n",
       "      <th>callories_avg</th>\n",
       "    </tr>\n",
       "  </thead>\n",
       "  <tbody>\n",
       "    <tr>\n",
       "      <th>96</th>\n",
       "      <td>Сыр \"Гауда\"</td>\n",
       "      <td>25</td>\n",
       "      <td>27</td>\n",
       "      <td>2</td>\n",
       "      <td>356</td>\n",
       "      <td>25.0</td>\n",
       "      <td>27.0</td>\n",
       "      <td>2.0</td>\n",
       "      <td>356.0</td>\n",
       "    </tr>\n",
       "  </tbody>\n",
       "</table>\n",
       "</div>"
      ],
      "text/plain": [
       "        Product squirrels fats carbohydrates callories  squirrels_avg  \\\n",
       "96  Сыр \"Гауда\"        25   27             2       356           25.0   \n",
       "\n",
       "    fats_avg  carbohydrates_avg  callories_avg  \n",
       "96      27.0                2.0          356.0  "
      ]
     },
     "execution_count": 5,
     "metadata": {},
     "output_type": "execute_result"
    }
   ],
   "source": [
    "kk[kk[\"Product\"] == 'Сыр \"Гауда\"']"
   ]
  },
  {
   "cell_type": "code",
   "execution_count": 6,
   "id": "62aacdf6",
   "metadata": {},
   "outputs": [],
   "source": [
    "class ProductSearch(BaseModel):\n",
    "    \"\"\"Ввод данных для запросов о еде\"\"\"\n",
    "\n",
    "    name: Optional[str] = Field(description=\"Название продукта\", default=None)\n",
    "    squirrels: Optional[str] = Field(description=\"Белки\", default=None)\n",
    "    fats: Optional[str] = Field(description=\"Жиры\", default=None)\n",
    "    carbohydrates: Optional[str] = Field(description=\"Углеводы\", default=None)\n",
    "    callories: Optional[str] = Field(description=\"Энергия\", default=None)\n",
    "    squirrels_avg: Optional[str] = Field(description=\"Белки среднее значение\", default=None)\n",
    "    fats_avg: Optional[str] = Field(description=\"Жиры среднее значение\", default=None)\n",
    "    carbohydrates_avg: Optional[str] = Field(description=\"Углеводы среднее значение\", default=None)\n",
    "    callories_avg: Optional[str] = Field(description=\"Энергия среднее значение\", default=None)\n",
    "    \n",
    "    # Добавляем параметры для диапазонного поиска\n",
    "    min_squirrels: Optional[int] = Field(description=\"Минимальное количество белков\", default=None)\n",
    "    max_squirrels: Optional[int] = Field(description=\"Максимальное количество белков\", default=None)\n",
    "    min_fats: Optional[int] = Field(description=\"Минимальное количество жиров\", default=None)\n",
    "    max_fats: Optional[int] = Field(description=\"Максимальное количество жиров\", default=None)\n",
    "    min_carbohydrates: Optional[int] = Field(description=\"Минимальное количество углеводов\", default=None)\n",
    "    max_carbohydrates: Optional[int] = Field(description=\"Максимальное количество углеводов\", default=None)\n",
    "    min_callories: Optional[int] = Field(description=\"Минимальная энергетическая ценность\", default=None)\n",
    "    max_callories: Optional[int] = Field(description=\"Максимальная энергетическая ценность\", default=None)\n",
    "    number_products: Optional[int] = Field(description=\"Количество продуктов\", default=None)\n",
    "    \n",
    "    sort_order: Optional[str] = Field(\n",
    "        description=\"Порядок сортировки (наибольшие белки, наименьшие белки, наибольшие жиры, наименьшие жиры, наибольшие углеводы, наименьшие углеводы,наибольшие каллории, наименьшие каллории)\",\n",
    "        default=None,\n",
    "    )"
   ]
  },
  {
   "cell_type": "code",
   "execution_count": 7,
   "id": "2aca10ae",
   "metadata": {},
   "outputs": [],
   "source": [
    "@tool(args_schema=ProductSearch)\n",
    "def search_food(\n",
    "    name: Optional[str] = None,\n",
    "    squirrels: Optional[str] = None,\n",
    "    fats: Optional[str] = None,\n",
    "    carbohydrates: Optional[str] = None,\n",
    "    callories: Optional[str] = None,\n",
    "    squirrels_avg: Optional[str] = None,\n",
    "    fats_avg: Optional[str] = None,\n",
    "    carbohydrates_avg: Optional[str] = None,\n",
    "    callories_avg: Optional[str] = None,\n",
    "    min_squirrels: Optional[int] = None,\n",
    "    max_squirrels: Optional[int] = None,\n",
    "    min_fats: Optional[int] = None,\n",
    "    max_fats: Optional[int] = None,\n",
    "    min_carbohydrates: Optional[int] = None,\n",
    "    max_carbohydrates: Optional[int] = None,\n",
    "    min_callories: Optional[int] = None,\n",
    "    max_callories: Optional[int] = None,\n",
    "    sort_order: Optional[str] = None,\n",
    "    number_products: Optional[int] = None\n",
    ") -> str:\n",
    "    \"\"\"Поиск продуктов питания по различным критериям питания\"\"\"\n",
    "    \n",
    "    x = kk.copy()\n",
    "    \n",
    "    # Apply filters\n",
    "    if name:  \n",
    "        x = x[x[\"Product\"].apply(lambda x: name.lower() in str(x).lower())]\n",
    "    if min_callories: \n",
    "        x = x[x[\"callories_avg\"] >= min_callories]\n",
    "    if max_callories: \n",
    "        x = x[x[\"callories_avg\"] <= max_callories]\n",
    "    if min_carbohydrates: \n",
    "        x = x[x[\"carbohydrates_avg\"] >= min_carbohydrates]\n",
    "    if max_carbohydrates: \n",
    "        x = x[x[\"carbohydrates_avg\"] <= max_carbohydrates]\n",
    "    if min_fats: \n",
    "        x = x[x[\"fats_avg\"] >= min_fats]\n",
    "    if max_fats: \n",
    "        x = x[x[\"fats_avg\"] <= max_fats]\n",
    "    if min_squirrels: \n",
    "        x = x[x[\"squirrels_avg\"] >= min_squirrels]\n",
    "    if max_squirrels: \n",
    "        x = x[x[\"squirrels_avg\"] <= max_squirrels]\n",
    "    if sort_order:\n",
    "        if sort_order == \"наибольшие белки\":x = x.sort_values('squirrels_avg', ascending=False)\n",
    "        if sort_order == \"наименьшие белки\":x = x.sort_values('squirrels_avg', ascending=True)\n",
    "        if sort_order == \"наибольшие жиры\":x = x.sort_values('fats_avg', ascending=False)\n",
    "        if sort_order == \"наименьшие жиры\":x = x.sort_values('fats_avg', ascending=True)\n",
    "        if sort_order == \"наибольшие углеводы\":x = x.sort_values('carbohydrates_avg', ascending=False)\n",
    "        if sort_order == \"наименьшие углеводы\":x = x.sort_values('carbohydrates_avg', ascending=True)\n",
    "        if sort_order == \"наибольшие каллории\":x = x.sort_values('callories_avg', ascending=False)\n",
    "        if sort_order == \"наименьшие каллории\":x = x.sort_values('callories_avg', ascending=True)\n",
    "    if number_products: x = x.head(number_products)\n",
    "    # Формируем результат\n",
    "    result = \"Результаты поиска продуктов:\\n\"\n",
    "    \n",
    "    for i, (idx, food) in enumerate(x.iterrows(), 1):\n",
    "        result += f\"{i}. {food['Product']} - Б: {food.get('squirrels_avg', 'N/A')}г, Ж: {food.get('fats_avg', 'N/A')}г, У: {food.get('carbohydrates_avg', 'N/A')}г, Кал: {food.get('callories_avg', 'N/A')}\\n\"\n",
    "    \n",
    "    result += f\"\\nНайдено продуктов: {len(x)}\"\n",
    "    \n",
    "    return result"
   ]
  },
  {
   "cell_type": "code",
   "execution_count": 8,
   "id": "689129e9",
   "metadata": {},
   "outputs": [],
   "source": [
    "carts = {}\n",
    "\n",
    "class AddToCart(BaseModel):\n",
    "    \"\"\"Ввод данных для добавления продукта в корзину\"\"\"\n",
    "    name: str = Field(description=\"Точное название еды, чтобы положить в корзину\", default=None)\n",
    "    count: float = Field(description=\"Количество, которое нужно положить в корзину. Измеряется в граммах\",default=100.0)\n",
    "\n",
    "@tool(args_schema=AddToCart)\n",
    "def add_product_to_cart(\n",
    "    name: Optional[str] = None,\n",
    "    count: Optional[float] = 100.0\n",
    "    ):\n",
    "    \"\"\"Добавление продуктов в коризну carts\"\"\"\n",
    "    \n",
    "    if name not in kk['Product'].values:\n",
    "        return f\"Продукт '{name}' не найден. Пожалуйста, проверьте название.\"\n",
    "    \n",
    "    # Добавляем в корзину\n",
    "    carts[name] = carts.get(name, 0) + count\n",
    "    \n",
    "    return f'{count} грамм \"{name}\" добавлено в корзину. Теперь в корзине: {carts[name]} грамм'\n"
   ]
  },
  {
   "cell_type": "code",
   "execution_count": 9,
   "id": "59ff499c",
   "metadata": {},
   "outputs": [],
   "source": [
    "@tool(description=\"Показывает содержимое корзины\")\n",
    "def show_product_in_cart():\n",
    "    \"\"\"Показать продукты в корзине carts\"\"\"\n",
    "    \n",
    "    return carts"
   ]
  },
  {
   "cell_type": "code",
   "execution_count": 10,
   "id": "42dc1813",
   "metadata": {},
   "outputs": [],
   "source": [
    "base_prompt = \"\"\"Ты полезный ассистент по питанию. Ты получил результаты поиска продуктов. \n",
    "            Сформируй красивый, читаемый ответ для пользователя на русском языке.\n",
    "\n",
    "            Если нужен список продуктов вот структурированный ответ:\n",
    "            1. Краткое введение\n",
    "            2. Группируй продукты по категориям (мясо, рыба, молочные и т.д.)\n",
    "            3. Для каждого продукта укажи ключевые показатели\n",
    "            4. Дай рекомендации\n",
    "\n",
    "            Используй эмодзи и понятное форматирование.\"\"\""
   ]
  },
  {
   "cell_type": "code",
   "execution_count": 11,
   "id": "d2b2fc82",
   "metadata": {},
   "outputs": [],
   "source": [
    "@tool\n",
    "def search_dish(question: str) -> str:\n",
    "    \"\"\"Искать информацию о приготовлении блюда и продуктах для него\"\"\"\n",
    "    answer = rag.ask_question(question)\n",
    "    return answer"
   ]
  },
  {
   "cell_type": "markdown",
   "id": "ec388977",
   "metadata": {},
   "source": [
    "Еще инструменты"
   ]
  },
  {
   "cell_type": "code",
   "execution_count": 12,
   "id": "afd1517c",
   "metadata": {},
   "outputs": [],
   "source": [
    "@tool(description=\"Удаляет один продукт из корзины\")\n",
    "def remove_from_cart(product_name: str, amount: Optional[float] = None):\n",
    "    \"\"\"Удалить продукт из корзины полностью или частично, если указаны граммы\"\"\"\n",
    "    if amount:\n",
    "        carts[product_name] -= amount\n",
    "        if carts[product_name] <=0: del carts[product_name]\n",
    "    else: del carts[product_name]\n",
    "        \n",
    "\n",
    "@tool(description=\"Удаляет абсолютно все продукты из корзины\")\n",
    "def clear_cart():\n",
    "    \"\"\"Удалить все продукты из корзины\"\"\"\n",
    "    carts = {}\n",
    "\n",
    "@tool\n",
    "def calculate_cart_nutrition():\n",
    "    \"\"\"Посчитать общую nutritional ценность корзины\"\"\"\n",
    "    # Сумма белков/жиров/углеводов/калорий всех продуктов в корзине"
   ]
  },
  {
   "cell_type": "code",
   "execution_count": null,
   "id": "5c00b0ac",
   "metadata": {},
   "outputs": [],
   "source": [
    "llm = ChatOpenAI(\n",
    "    model=\"Qwen/Qwen3-235B-A22B-Instruct-2507\",\n",
    "    openai_api_key=os.environ.get(\"GIGA\"),\n",
    "    openai_api_base=\"https://foundation-models.api.cloud.ru/v1\",\n",
    "    max_tokens=1000\n",
    ")\n",
    "\n",
    "\n",
    "@tool\n",
    "def get_weather(location: str) -> str:\n",
    "    \"\"\"Получить информацию о погоде для местоположения.\"\"\"\n",
    "    return f\"Погода в {location}: Солнечно, 22°C\"\n",
    "\n",
    "@wrap_tool_call\n",
    "def handle_tool_errors(request, handler):\n",
    "    \"\"\"Обработка ошибок выполнения инструментов с пользовательскими сообщениями.\"\"\"\n",
    "    try:\n",
    "        return handler(request)\n",
    "    except Exception as e:\n",
    "        # Возвращаем пользовательское сообщение об ошибке модели\n",
    "        return ToolMessage(\n",
    "            content=f\"Ошибка инструмента: Пожалуйста, проверьте ваш ввод и попробуйте снова. ({str(e)})\",\n",
    "            tool_call_id=request.tool_call[\"id\"]\n",
    "        )\n",
    "\n",
    "class Context(TypedDict):\n",
    "    user_role: str\n",
    "\n",
    "@dynamic_prompt\n",
    "def user_role_prompt(request: ModelRequest) -> str:\n",
    "    \"\"\"Генерация системного промпта на основе роли пользователя.\"\"\"\n",
    "    user_role = request.runtime.context.get(\"user_role\", \"user\")\n",
    "    \n",
    "\n",
    "    if user_role == \"expert\":\n",
    "        return f\"{base_prompt} Предоставляйте подробные технические ответы.\"\n",
    "    elif user_role == \"beginner\":\n",
    "        return f\"{base_prompt} Объясняйте концепции просто и избегайте профессионального жаргона.\"\n",
    "\n",
    "    return base_prompt\n",
    "\n",
    "agent = create_agent(\n",
    "    llm,\n",
    "    tools=[get_weather,search_food,add_product_to_cart,show_product_in_cart,search_dish,remove_from_cart,clear_cart],\n",
    "    middleware=[user_role_prompt,handle_tool_errors],\n",
    "    context_schema=Context\n",
    ")\n",
    "\n",
    "# Системный промпт будет устанавливаться динамически на основе контекста\n"
   ]
  },
  {
   "cell_type": "code",
   "execution_count": 17,
   "id": "b2af535a",
   "metadata": {},
   "outputs": [
    {
     "data": {
      "text/plain": [
       "{'messages': [HumanMessage(content='Посоветуй блюдо,в котором есть сыр, картофель', additional_kwargs={}, response_metadata={}, id='52c939ce-3b67-4b79-ac17-c9c2e43f4ec9'),\n",
       "  AIMessage(content='', additional_kwargs={'refusal': None}, response_metadata={'token_usage': {'completion_tokens': 32, 'prompt_tokens': 1638, 'total_tokens': 1670, 'completion_tokens_details': None, 'prompt_tokens_details': {'audio_tokens': None, 'cached_tokens': 1616}}, 'model_provider': 'openai', 'model_name': 'Qwen/Qwen3-235B-A22B-Instruct-2507', 'system_fingerprint': None, 'id': 'chatcmpl-f0ff6868-6603-4e04-9224-1c583cb199a0', 'finish_reason': 'tool_calls', 'logprobs': None}, id='lc_run--0d16d6da-d2bb-461b-a279-f31769bd7add-0', tool_calls=[{'name': 'search_dish', 'args': {'question': 'блюдо с сыром и картофелем'}, 'id': 'chatcmpl-tool-034a393fde2545e193ab5a6d7dba801c', 'type': 'tool_call'}], usage_metadata={'input_tokens': 1638, 'output_tokens': 32, 'total_tokens': 1670, 'input_token_details': {'cache_read': 1616}, 'output_token_details': {}}),\n",
       "  ToolMessage(content='Блюдо с сыром и картофелем — **картофельные оладьи с сыром**.\\n\\nКроме того, в контексте упоминаются и другие блюда, содержащие сыр и картофель:\\n- **Язык с картофелем в соусе, запеченный** — включает вареный картофель и тертый сыр (посыпка из сыра и сухарей).\\n- **Креветки, запеченные под сметанным или молочным соусом** — также содержат картофель и посыпаются тертым сыром.\\n\\nТаким образом, блюда с сыром и картофелем:\\n1. Картофельные оладьи с сыром  \\n2. Язык с картофелем в соусе, запеченный  \\n3. Креветки, запеченные под соусом (с добавлением картофеля и сыра)', name='search_dish', id='ab694c69-fb37-4ebb-b4e4-3814f3629665', tool_call_id='chatcmpl-tool-034a393fde2545e193ab5a6d7dba801c'),\n",
       "  AIMessage(content='Вот несколько вкусных и питательных блюд, в состав которых входят **сыр** и **картофель** 🥔🧀:\\n\\n---\\n\\n### 🥔 1. **Картофельные оладьи с сыром**\\n- **Ингредиенты**: тёртый картофель, яйца, мука, лук, твёрдый сыр (натёртый), соль, перец.\\n- **Особенности**: хрустящая корочка, мягкая начинка, сыр придаёт пикантность и аромат.\\n- **Подача**: сметана, зелень, салат из свежих овощей.\\n- ✅ **Плюсы**: богаты крахмалом и белком (от сыра и яиц), сытное блюдо.\\n\\n---\\n\\n### 🍲 2. **Язык с картофелем в соусе, запечённый**\\n- **Ингредиенты**: говяжий язык, варёный картофель, сметанный соус, тёртый сыр, сухари.\\n- **Особенности**: нежное мясо, мягкий картофель, сырная корочка сверху.\\n- 🧀 Подсказка: сыр используется как посыпка — усиливает вкус и добавляет кальций.\\n- ✅ **Плюсы**: высокое содержание белка, железа (от языка), витаминов группы B.\\n\\n---\\n\\n### 🍤 3. **Креветки, запечённые под соусом с картофелем и сыром**\\n- **Ингредиенты**: креветки, картофель (пластинками), сметанный или молочный соус, тёртый сыр.\\n- **Особенности**: лёгкое, но насыщенное блюдо с морепродуктами.\\n- 🌿 Подача: украсить петрушкой или укропом.\\n- ✅ **Плюсы**: белок из креветок и сыра, картофель — источник калия и витамина C.\\n\\n---\\n\\n### 🔥 Рекомендации:\\n- Используйте **твёрдые сорта сыра** (например, Российский, Чеддер) — они лучше плавятся и подходят для запекания.\\n- Для снижения калорийности: замените сметану на **греческий йогурт** или обезжиренный соус.\\n- Добавьте **зелёный салат** или **стручковую фасоль** — это уравновесит блюдо по клетчатке и витаминам.\\n\\n---\\n\\nХочешь рецепт одного из этих блюд с пошаговым приготовлением? 😊', additional_kwargs={'refusal': None}, response_metadata={'token_usage': {'completion_tokens': 677, 'prompt_tokens': 1912, 'total_tokens': 2589, 'completion_tokens_details': None, 'prompt_tokens_details': {'audio_tokens': None, 'cached_tokens': 1664}}, 'model_provider': 'openai', 'model_name': 'Qwen/Qwen3-235B-A22B-Instruct-2507', 'system_fingerprint': None, 'id': 'chatcmpl-03b63c9a-8cf7-4c12-9573-082ab71c5715', 'finish_reason': 'stop', 'logprobs': None}, id='lc_run--d8e2d2cc-7499-4f4e-8e58-f9ad25333503-0', usage_metadata={'input_tokens': 1912, 'output_tokens': 677, 'total_tokens': 2589, 'input_token_details': {'cache_read': 1664}, 'output_token_details': {}})]}"
      ]
     },
     "execution_count": 17,
     "metadata": {},
     "output_type": "execute_result"
    }
   ],
   "source": [
    "result = agent.invoke(\n",
    "    {\"messages\": [{\"role\": \"user\", \"content\": \"Посоветуй блюдо,в котором есть сыр, картофель\"}]},\n",
    "    context={\"user_role\": \"expert\"}\n",
    ")\n",
    "result"
   ]
  },
  {
   "cell_type": "code",
   "execution_count": 16,
   "id": "e0ae6476",
   "metadata": {},
   "outputs": [
    {
     "data": {
      "text/plain": [
       "{'messages': [HumanMessage(content='Посоветуй 3 продукта, где больше 25 белков', additional_kwargs={}, response_metadata={}, id='ebdded1f-f172-4b1f-bc63-acc3fa519302'),\n",
       "  AIMessage(content='', additional_kwargs={'refusal': None}, response_metadata={'token_usage': {'completion_tokens': 31, 'prompt_tokens': 1637, 'total_tokens': 1668, 'completion_tokens_details': None, 'prompt_tokens_details': None}, 'model_provider': 'openai', 'model_name': 'Qwen/Qwen3-235B-A22B-Instruct-2507', 'system_fingerprint': None, 'id': 'chatcmpl-b420fcf6-ceb3-43df-82b8-c4c251925abe', 'finish_reason': 'tool_calls', 'logprobs': None}, id='lc_run--6abcbc4b-3277-4d83-8894-45123bab1de2-0', tool_calls=[{'name': 'search_food', 'args': {'min_squirrels': 25, 'number_products': 3}, 'id': 'chatcmpl-tool-d0dea81e96bd42078b34d73ed0cfe703', 'type': 'tool_call'}], usage_metadata={'input_tokens': 1637, 'output_tokens': 31, 'total_tokens': 1668, 'input_token_details': {}, 'output_token_details': {}}),\n",
       "  ToolMessage(content='Результаты поиска продуктов:\\n1. Соя зерно - Б: 36.7г, Ж: 17.8г, У: 17.3г, Кал: 364.0\\n2. Соевые бобы - Б: 36.4г, Ж: 19.9г, У: 30.1г, Кал: 446.0\\n3. Сыр \"Гауда\" - Б: 25.0г, Ж: 27.0г, У: 2.0г, Кал: 356.0\\n\\nНайдено продуктов: 3', name='search_food', id='2a74cb79-5bcf-449d-b81c-b532a361716d', tool_call_id='chatcmpl-tool-d0dea81e96bd42078b34d73ed0cfe703'),\n",
       "  AIMessage(content='Вот 3 продукта с содержанием белка более 25 г на 100 г продукта 🥩🥚🐟:\\n\\n---\\n\\n### 🌱 **Растительные источники белка**\\n1. **Соя (зерно)**  \\n   - 🥚 Белки: **36,7 г**  \\n   - 🧈 Жиры: 17,8 г  \\n   - 🍞 Углеводы: 17,3 г  \\n   - 🔥 Калорийность: 364 ккал  \\n   ✅ Отличный растительный источник полноценного белка. Подходит для веганов и вегетарианцев.\\n\\n2. **Соевые бобы (отварные/свежие)**  \\n   - 🥚 Белки: **36,4 г**  \\n   - 🧈 Жиры: 19,9 г  \\n   - 🍞 Углеводы: 30,1 г  \\n   - 🔥 Калорийность: 446 ккал  \\n   ✅ Богаты белком, клетчаткой и изофлавонами. Хороши в рационе для поддержки гормонального баланса.\\n\\n---\\n\\n### 🧀 **Животный белок**\\n3. **Сыр «Гауда»**  \\n   - 🥚 Белки: **25,0 г**  \\n   - 🧈 Жиры: 27,0 г  \\n   - 🍞 Углеводы: 2,0 г  \\n   - 🔥 Калорийность: 356 ккал  \\n   ✅ Высококалорийный продукт, но содержит качественный животный белок и кальций. Умеренное употребление — ключ к пользе.\\n\\n---\\n\\n### 💡 Рекомендации:\\n- **Для набора массы:** соя и сыр — отличные источники белка и калорий.\\n- **Для снижения веса:** отдавайте предпочтение сое (меньше жира и калорий по сравнению с сыром).\\n- **Для разнообразия рациона:** чередуйте растительные и животные белки.\\n\\nХочешь, добавлю эти продукты в корзину или подберу рецепты на их основе? 🛒🍳', additional_kwargs={'refusal': None}, response_metadata={'token_usage': {'completion_tokens': 545, 'prompt_tokens': 1833, 'total_tokens': 2378, 'completion_tokens_details': None, 'prompt_tokens_details': {'audio_tokens': None, 'cached_tokens': 1664}}, 'model_provider': 'openai', 'model_name': 'Qwen/Qwen3-235B-A22B-Instruct-2507', 'system_fingerprint': None, 'id': 'chatcmpl-4bf687f8-4c6c-4b4d-b7d0-7eda900f9b98', 'finish_reason': 'stop', 'logprobs': None}, id='lc_run--2697e77b-72da-473d-b0ae-05480d5fb725-0', usage_metadata={'input_tokens': 1833, 'output_tokens': 545, 'total_tokens': 2378, 'input_token_details': {'cache_read': 1664}, 'output_token_details': {}})]}"
      ]
     },
     "execution_count": 16,
     "metadata": {},
     "output_type": "execute_result"
    }
   ],
   "source": [
    "result = agent.invoke(\n",
    "    {\"messages\": [{\"role\": \"user\", \"content\": \"Посоветуй 3 продукта, где больше 25 белков\"}]},\n",
    "    context={\"user_role\": \"expert\"}\n",
    ")\n",
    "result"
   ]
  },
  {
   "cell_type": "code",
   "execution_count": 18,
   "id": "9d98a8a8",
   "metadata": {},
   "outputs": [
    {
     "data": {
      "text/plain": [
       "{'messages': [HumanMessage(content='Что можно приготовить с сыром?', additional_kwargs={}, response_metadata={}, id='adc296c3-7d74-4682-a3b6-67db9d1f360b'),\n",
       "  AIMessage(content='', additional_kwargs={'refusal': None}, response_metadata={'token_usage': {'completion_tokens': 26, 'prompt_tokens': 1545, 'total_tokens': 1571, 'completion_tokens_details': None, 'prompt_tokens_details': {'audio_tokens': None, 'cached_tokens': 1520}}, 'model_provider': 'openai', 'model_name': 'Qwen/Qwen3-235B-A22B-Instruct-2507', 'system_fingerprint': None, 'id': 'chatcmpl-06be4b45-a8e8-4601-8b62-570ec44fde1d', 'finish_reason': 'tool_calls', 'logprobs': None}, id='lc_run--19a653eb-500f-410f-9996-79c9baf23664-0', tool_calls=[{'name': 'search_dish', 'args': {'question': 'блюда с сыром'}, 'id': 'chatcmpl-tool-e9ce378d223d41eb989aec47d071d38f', 'type': 'tool_call'}], usage_metadata={'input_tokens': 1545, 'output_tokens': 26, 'total_tokens': 1571, 'input_token_details': {'cache_read': 1520}, 'output_token_details': {}}),\n",
       "  ToolMessage(content='Блюда с сыром, упомянутые в контексте:\\n\\n1. **Канапе с сыром и окороком** — кусочки хлеба с маслом, по краям уложены полоски сыра и окорока, в середине — рубленые яйца и зелень, оформляются маслом.\\n\\n2. **Канапе с сыром** — хлеб с маслом, покрытый ломтиками сыра, сверху украшен масляным рисунком, зеленью и перцем.\\n\\n3. **Гренки с сыром** — тонкие ломтики пшеничного хлеба, посыпанные тёртым сыром, сбрызнутые маслом и поджаренные в жарочном шкафу.\\n\\n4. **Сыр слоеный** — слои ветчины и творожного крема, попеременно уложенные, с застывшим мясным желе; в рецептуре указан тёртый сыр (в звёздочке упоминается масса тёртого сыра).\\n\\n5. **Картофельные оладьи с сыром** — оладьи, приготовленные с использованием варёного протёртого картофеля, тёртого сыра и кипячёного молока.\\n\\nВсе перечисленные блюда содержат сыр как один из основных ингредиентов.', name='search_dish', id='52d8f697-9aae-4d94-909c-1c8f03aa01a1', tool_call_id='chatcmpl-tool-e9ce378d223d41eb989aec47d071d38f'),\n",
       "  AIMessage(content='🧀 **Что можно приготовить с сыром?**  \\nСыр — универсальный продукт, который отлично подходит как для закусок, так и для горячих блюд. Вот подборка вкусных и простых рецептов, где сыр играет ключевую роль:\\n\\n---\\n\\n### 🥪 1. **Канапе с сыром и окороком**  \\n**Ингредиенты:**  \\n- Хлеб (белый или багет)  \\n- Сливочное масло  \\n- Сыр (например, чеддер или гауда)  \\n- Окорок (ветчина)  \\n- Яйца (варёные, рубленые)  \\n- Зелень (укроп, петрушка)  \\n\\n**Как приготовить:**  \\nНамажьте хлеб маслом, выложите ломтики сыра и окорока по краям, в центр — рубленые яйца и зелень. Украсьте масляным рисунком или перцем.\\n\\n---\\n\\n### 🥖 2. **Гренки с сыром**  \\n**Ингредиенты:**  \\n- Тонкий хлеб  \\n- Тёртый сыр (лучше моцарелла или пармезан)  \\n- Сливочное или оливковое масло  \\n\\n**Как приготовить:**  \\nПосыпьте хлеб тёртым сыром, сбрызните маслом и запеките в духовке до золотистой корочки. Готово за 5–7 минут!\\n\\n---\\n\\n### 🧀 3. **Сыр слоёный (закуска-желе)**  \\n**Ингредиенты:**  \\n- Ветчина  \\n- Творожный крем  \\n- Тёртый сыр  \\n- Мясное желе  \\n\\n**Как приготовить:**  \\nЧередуйте слои ветчины, творожного крема и сыра в форме, залейте мясным желе и охладите до застывания. Подавайте нарезанным.\\n\\n---\\n\\n### 🥔 4. **Картофельные оладьи с сыром**  \\n**Ингредиенты:**  \\n- Варёный картофель (протёртый)  \\n- Тёртый сыр  \\n- Молоко  \\n- Яйцо, мука, соль  \\n\\n**Как приготовить:**  \\nСмешайте картофель с сыром, молоком, яйцом и небольшим количеством муки. Жарьте на сковороде до хрустящей корочки. Отлично сметаются даже детьми!\\n\\n---\\n\\n### 🍕 Бонус: Идеи с сыром  \\n- **Брускетта с моцареллой и томатами** 🍅  \\n- **Карбонара с пармезаном** 🍝  \\n- **Кальцоне или пицца с сыром** 🍕  \\n- **Сырные палочки в кляре** 🧀\\n\\n---\\n\\n💡 **Совет:** Используйте твёрдые сыры (чеддер, пармезан) для запекания, а мягкие (моцарелла, филадельфия) — для начинок и бутербродов.\\n\\nХочешь, я помогу составить меню на день с этими блюдами? 😊', additional_kwargs={'refusal': None}, response_metadata={'token_usage': {'completion_tokens': 808, 'prompt_tokens': 1947, 'total_tokens': 2755, 'completion_tokens_details': None, 'prompt_tokens_details': {'audio_tokens': None, 'cached_tokens': 1568}}, 'model_provider': 'openai', 'model_name': 'Qwen/Qwen3-235B-A22B-Instruct-2507', 'system_fingerprint': None, 'id': 'chatcmpl-e85099c4-b714-446e-ac02-3ac05bde16b7', 'finish_reason': 'stop', 'logprobs': None}, id='lc_run--883b8ca5-84b3-422a-be29-9b4b36beac24-0', usage_metadata={'input_tokens': 1947, 'output_tokens': 808, 'total_tokens': 2755, 'input_token_details': {'cache_read': 1568}, 'output_token_details': {}})]}"
      ]
     },
     "execution_count": 18,
     "metadata": {},
     "output_type": "execute_result"
    }
   ],
   "source": [
    "result = agent.invoke(\n",
    "    {\"messages\": [{\"role\": \"user\", \"content\": \"Что можно приготовить с сыром?\"}]},\n",
    "    context={\"user_role\": \"expert\"}\n",
    ")\n",
    "result"
   ]
  },
  {
   "cell_type": "code",
   "execution_count": 19,
   "id": "0bdc8393",
   "metadata": {},
   "outputs": [],
   "source": [
    "result = agent.invoke(\n",
    "    {\"messages\": [{\"role\": \"user\", \"content\": 'Добавь в корзину Сыр \"Гауда\" (Гауда должен быть в таких кавыках), 500 грамм'}]},\n",
    "    context={\"user_role\": \"expert\"}\n",
    ")"
   ]
  },
  {
   "cell_type": "code",
   "execution_count": 20,
   "id": "45c231a5",
   "metadata": {},
   "outputs": [
    {
     "data": {
      "text/plain": [
       "{'messages': [HumanMessage(content='Добавь в корзину Сыр \"Гауда\" (Гауда должен быть в таких кавыках), 500 грамм', additional_kwargs={}, response_metadata={}, id='8ed8f413-af3b-4805-96e1-d0399618bf99'),\n",
       "  AIMessage(content='', additional_kwargs={'refusal': None}, response_metadata={'token_usage': {'completion_tokens': 37, 'prompt_tokens': 1572, 'total_tokens': 1609, 'completion_tokens_details': None, 'prompt_tokens_details': {'audio_tokens': None, 'cached_tokens': 1520}}, 'model_provider': 'openai', 'model_name': 'Qwen/Qwen3-235B-A22B-Instruct-2507', 'system_fingerprint': None, 'id': 'chatcmpl-222d7f90-ea84-42f5-bd63-668521c28d6c', 'finish_reason': 'tool_calls', 'logprobs': None}, id='lc_run--2d3470ab-4bb4-471c-ab85-61c275983f4d-0', tool_calls=[{'name': 'add_product_to_cart', 'args': {'name': 'Сыр \"Гауда\"', 'count': 500}, 'id': 'chatcmpl-tool-cb12b703a9144e11becfcda406409d00', 'type': 'tool_call'}], usage_metadata={'input_tokens': 1572, 'output_tokens': 37, 'total_tokens': 1609, 'input_token_details': {'cache_read': 1520}, 'output_token_details': {}}),\n",
       "  ToolMessage(content='500.0 грамм \"Сыр \"Гауда\"\" добавлено в корзину. Теперь в корзине: 500.0 грамм', name='add_product_to_cart', id='2b9e9e4f-6d94-41ec-8ec7-76030877a467', tool_call_id='chatcmpl-tool-cb12b703a9144e11becfcda406409d00'),\n",
       "  AIMessage(content='✅ **Продукт успешно добавлен в корзину!**\\n\\n📌 **Что добавлено:**\\n- 🧀 **Сыр \"Гауда\"** — 500 г\\n\\n🛒 Теперь в вашей корзине: **500 г сыра \"Гауда\"**.\\n\\nЕсли хотите посмотреть содержимое корзины, добавить другие продукты или получить рекомендации по питанию — дайте знать! 😊', additional_kwargs={'refusal': None}, response_metadata={'token_usage': {'completion_tokens': 106, 'prompt_tokens': 1665, 'total_tokens': 1771, 'completion_tokens_details': None, 'prompt_tokens_details': {'audio_tokens': None, 'cached_tokens': 1600}}, 'model_provider': 'openai', 'model_name': 'Qwen/Qwen3-235B-A22B-Instruct-2507', 'system_fingerprint': None, 'id': 'chatcmpl-64c8de6a-8e93-422a-81c4-b7d3f1c8795c', 'finish_reason': 'stop', 'logprobs': None}, id='lc_run--e4f1b4cf-e866-43c3-b320-f6ecec05ab09-0', usage_metadata={'input_tokens': 1665, 'output_tokens': 106, 'total_tokens': 1771, 'input_token_details': {'cache_read': 1600}, 'output_token_details': {}})]}"
      ]
     },
     "execution_count": 20,
     "metadata": {},
     "output_type": "execute_result"
    }
   ],
   "source": [
    "result"
   ]
  },
  {
   "cell_type": "code",
   "execution_count": 21,
   "id": "a309cf70",
   "metadata": {},
   "outputs": [],
   "source": [
    "result = agent.invoke(\n",
    "    {\"messages\": [{\"role\": \"user\", \"content\": \"Напиши, какой вид хлеба есть в базе?\"}]},\n",
    "    context={\"user_role\": \"expert\"}\n",
    ")"
   ]
  },
  {
   "cell_type": "code",
   "execution_count": 22,
   "id": "41522e29",
   "metadata": {},
   "outputs": [
    {
     "data": {
      "text/plain": [
       "{'messages': [HumanMessage(content='Напиши, какой вид хлеба есть в базе?', additional_kwargs={}, response_metadata={}, id='512d3fa5-722f-41ca-af24-65c17de09bf7'),\n",
       "  AIMessage(content='', additional_kwargs={'refusal': None}, response_metadata={'token_usage': {'completion_tokens': 22, 'prompt_tokens': 1551, 'total_tokens': 1573, 'completion_tokens_details': None, 'prompt_tokens_details': {'audio_tokens': None, 'cached_tokens': 1520}}, 'model_provider': 'openai', 'model_name': 'Qwen/Qwen3-235B-A22B-Instruct-2507', 'system_fingerprint': None, 'id': 'chatcmpl-538edc68-c220-4f60-926f-4d9fb39db21c', 'finish_reason': 'tool_calls', 'logprobs': None}, id='lc_run--d8618f04-474a-4e7a-8df0-5de37de0e8b6-0', tool_calls=[{'name': 'search_food', 'args': {'name': 'хлеб'}, 'id': 'chatcmpl-tool-21951dd433f945e99cb0063d4f13415b', 'type': 'tool_call'}], usage_metadata={'input_tokens': 1551, 'output_tokens': 22, 'total_tokens': 1573, 'input_token_details': {'cache_read': 1520}, 'output_token_details': {}}),\n",
       "  ToolMessage(content='Результаты поиска продуктов:\\n1. Хлеб пшеничный из муки высшего сорта - Б: 7.55г, Ж: 1.85г, У: 50.3г, Кал: 248.5\\n2. Хлеб пшеничный из муки 1 сорта - Б: 7.6г, Ж: 0.9г, У: 49.7г, Кал: 226.0\\n3. Хлеб из ржано-пшеничной муки - Б: 6.8г, Ж: 1.2г, У: 46.4г, Кал: 215.0\\n4. Хлеб ржаной - Б: 4.7г, Ж: 0.7г, У: 49.8г, Кал: 214.0\\n5. Хлеб \"Бородинский\" - Б: 6.9г, Ж: 1.3г, У: 40.9г, Кал: 208.0\\n6. Хлеб зерновой (мука пшеничная в/с, зерно дробленое) - Б: 8.6г, Ж: 1.4г, У: 45.1г, Кал: 228.0\\n7. Хлеб цельнозерновой из смеси злаков - Б: 13.3г, Ж: 4.2г, У: 43.3г, Кал: 265.0\\n8. Хлебцы Dr.Körner \"Семь злаков\" - Б: 10.0г, Ж: 2.0г, У: 57.0г, Кал: 290.0\\n9. Хлебцы Dr.Körner \"Бородинские\" - Б: 11.0г, Ж: 3.0г, У: 52.0г, Кал: 280.0\\n10. Хлебцы Dr.Körner \"Гречневые\" с витаминами - Б: 11.6г, Ж: 3.0г, У: 52.4г, Кал: 283.0\\n11. Хлебцы Dr.Körner \"Рисовые\" с витаминами - Б: 6.0г, Ж: 1.0г, У: 69.0г, Кал: 310.0\\n12. Квас хлебный - Б: 0.2г, Ж: nanг, У: 5.2г, Кал: 27.0\\n\\nНайдено продуктов: 12', name='search_food', id='44407808-6e13-4255-b0d0-c2581b8a9220', tool_call_id='chatcmpl-tool-21951dd433f945e99cb0063d4f13415b'),\n",
       "  AIMessage(content='В базе данных представлено **12 видов хлеба и хлебцев** 🍞, включая классические сорта, зерновые и специализированные продукты. Ниже — структурированный обзор с разбивкой по категориям и ключевыми показателями (белки, жиры, углеводы, калорийность на 100 г):\\n\\n---\\n\\n### 🥖 **Классический пшеничный и ржаной хлеб**\\n| Название | Белки | Жиры | Углеводы | Калории |\\n|--------|-------|------|----------|---------|\\n| Хлеб пшеничный из муки высшего сорта | 7.55 г | 1.85 г | 50.3 г | 248.5 ккал |\\n| Хлеб пшеничный из муки 1 сорта | 7.6 г | 0.9 г | 49.7 г | 226.0 ккал |\\n| Хлеб из ржано-пшеничной муки | 6.8 г | 1.2 г | 46.4 г | 215.0 ккал |\\n| Хлеб ржаной | 4.7 г | 0.7 г | 49.8 г | 214.0 ккал |\\n| Хлеб \"Бородинский\" | 6.9 г | 1.3 г | 40.9 г | 208.0 ккал |\\n\\n📌 **Рекомендация**: Бородинский и ржаной хлеб — более низкокалорийные и с меньшим содержанием углеводов. Хороший выбор для тех, кто следит за весом или уровнем сахара в крови.\\n\\n---\\n\\n### 🌾 **Зерновые и цельнозерновые хлеба**\\n| Название | Белки | Жиры | Углеводы | Калории |\\n|--------|-------|------|----------|---------|\\n| Хлеб зерновой (с дробленым зерном) | 8.6 г | 1.4 г | 45.1 г | 228.0 ккал |\\n| Хлеб цельнозерновой из смеси злаков | 13.3 г | 4.2 г | 43.3 г | 265.0 ккал |\\n\\n📌 **Рекомендация**: Отличный выбор для спортсменов и тех, кто хочет повысить потребление белка и клетчатки. Цельнозерновой хлеб — лидер по белку среди всех видов.\\n\\n---\\n\\n### 🍞 **Хлебцы (Dr.Körner)**\\n| Название | Белки | Жиры | Углеводы | Калории |\\n|--------|-------|------|----------|---------|\\n| Хлебцы \"Семь злаков\" | 10.0 г | 2.0 г | 57.0 г | 290.0 ккал |\\n| Хлебцы \"Бородинские\" | 11.0 г | 3.0 г | 52.0 г | 280.0 ккал |\\n| Хлебцы \"Гречневые\" с витаминами | 11.6 г | 3.0 г | 52.4 г | 283.0 ккал |\\n| Хлебцы \"Рисовые\" с витаминами | 6.0 г | 1.0 г | 69.0 г | 310.0 ккал |\\n\\n📌 **Рекомендация**: Хлебцы — концентрированный источник энергии. Гречневые и бородинские — богаты белком. Рисовые — самые калорийные и углеводистые, подходят для активных людей.\\n\\n---\\n\\n### 🥤 **Напиток на основе хлеба**\\n| Название | Белки | Жиры | Углеводы | Калории |\\n|--------|-------|------|----------|---------|\\n| Квас х', additional_kwargs={'refusal': None}, response_metadata={'token_usage': {'completion_tokens': 1000, 'prompt_tokens': 2250, 'total_tokens': 3250, 'completion_tokens_details': None, 'prompt_tokens_details': {'audio_tokens': None, 'cached_tokens': 1568}}, 'model_provider': 'openai', 'model_name': 'Qwen/Qwen3-235B-A22B-Instruct-2507', 'system_fingerprint': None, 'id': 'chatcmpl-465eff7f-1bba-4ace-bc76-81c23f09e3a2', 'finish_reason': 'length', 'logprobs': None}, id='lc_run--5229138b-d046-45ae-bdb0-76f7973af458-0', usage_metadata={'input_tokens': 2250, 'output_tokens': 1000, 'total_tokens': 3250, 'input_token_details': {'cache_read': 1568}, 'output_token_details': {}})]}"
      ]
     },
     "execution_count": 22,
     "metadata": {},
     "output_type": "execute_result"
    }
   ],
   "source": [
    "result"
   ]
  },
  {
   "cell_type": "code",
   "execution_count": 23,
   "id": "3deac2e2",
   "metadata": {},
   "outputs": [
    {
     "data": {
      "text/plain": [
       "{'messages': [HumanMessage(content='Добавь в корзину Хлеб пшеничный из муки 1 сорта 300 грамм, Ветчина рубленая 400 грамм,Масло сливочное 300 грамм', additional_kwargs={}, response_metadata={}, id='9e81dbdd-804a-4895-b524-bced7c411490'),\n",
       "  AIMessage(content='', additional_kwargs={'refusal': None}, response_metadata={'token_usage': {'completion_tokens': 117, 'prompt_tokens': 1595, 'total_tokens': 1712, 'completion_tokens_details': None, 'prompt_tokens_details': {'audio_tokens': None, 'cached_tokens': 1536}}, 'model_provider': 'openai', 'model_name': 'Qwen/Qwen3-235B-A22B-Instruct-2507', 'system_fingerprint': None, 'id': 'chatcmpl-ad75bc3e-6091-41eb-8b62-df78c8fce190', 'finish_reason': 'tool_calls', 'logprobs': None}, id='lc_run--68006f51-8ef0-40e4-81d0-e91fc878578e-0', tool_calls=[{'name': 'add_product_to_cart', 'args': {'name': 'Хлеб пшеничный из муки 1 сорта', 'count': 300}, 'id': 'chatcmpl-tool-447c944a16ee4c14a4dc3e1df33871f8', 'type': 'tool_call'}, {'name': 'add_product_to_cart', 'args': {'name': 'Ветчина рубленая', 'count': 400}, 'id': 'chatcmpl-tool-f67628dea0714bae90e6addf67fceb88', 'type': 'tool_call'}, {'name': 'add_product_to_cart', 'args': {'name': 'Масло сливочное', 'count': 300}, 'id': 'chatcmpl-tool-0022424f5e7b4acab2e06871208849f6', 'type': 'tool_call'}], usage_metadata={'input_tokens': 1595, 'output_tokens': 117, 'total_tokens': 1712, 'input_token_details': {'cache_read': 1536}, 'output_token_details': {}}),\n",
       "  ToolMessage(content='300.0 грамм \"Хлеб пшеничный из муки 1 сорта\" добавлено в корзину. Теперь в корзине: 300.0 грамм', name='add_product_to_cart', id='58d3ad9e-99bc-452e-b742-9398fb10c027', tool_call_id='chatcmpl-tool-447c944a16ee4c14a4dc3e1df33871f8'),\n",
       "  ToolMessage(content='400.0 грамм \"Ветчина рубленая\" добавлено в корзину. Теперь в корзине: 400.0 грамм', name='add_product_to_cart', id='36af702b-44db-41fc-bdc6-00fce1718e33', tool_call_id='chatcmpl-tool-f67628dea0714bae90e6addf67fceb88'),\n",
       "  ToolMessage(content='300.0 грамм \"Масло сливочное\" добавлено в корзину. Теперь в корзине: 300.0 грамм', name='add_product_to_cart', id='51d289e1-339d-4d96-85db-89fe53a3b082', tool_call_id='chatcmpl-tool-0022424f5e7b4acab2e06871208849f6'),\n",
       "  AIMessage(content='✅ Готово! Продукты успешно добавлены в вашу корзину:\\n\\n🛒 **Содержимое корзины:**\\n- 🍞 Хлеб пшеничный из муки 1 сорта — **300 г**\\n- 🥩 Ветчина рубленая — **400 г**\\n- 🧈 Масло сливочное — **300 г**\\n\\nЕсли хотите посмотреть полный состав, рассчитать калорийность или изменить количество — дайте знать! 😊', additional_kwargs={'refusal': None}, response_metadata={'token_usage': {'completion_tokens': 124, 'prompt_tokens': 1870, 'total_tokens': 1994, 'completion_tokens_details': None, 'prompt_tokens_details': {'audio_tokens': None, 'cached_tokens': 1696}}, 'model_provider': 'openai', 'model_name': 'Qwen/Qwen3-235B-A22B-Instruct-2507', 'system_fingerprint': None, 'id': 'chatcmpl-f9f8f99c-15a4-4ab8-aaa3-2d8d0ecb17af', 'finish_reason': 'stop', 'logprobs': None}, id='lc_run--33115d4d-f820-4eab-8e2a-85e855f07912-0', usage_metadata={'input_tokens': 1870, 'output_tokens': 124, 'total_tokens': 1994, 'input_token_details': {'cache_read': 1696}, 'output_token_details': {}})]}"
      ]
     },
     "execution_count": 23,
     "metadata": {},
     "output_type": "execute_result"
    }
   ],
   "source": [
    "result = agent.invoke(\n",
    "    {\"messages\": [{\"role\": \"user\", \"content\": \"Добавь в корзину Хлеб пшеничный из муки 1 сорта 300 грамм, Ветчина рубленая 400 грамм,Масло сливочное 300 грамм\"}]},\n",
    "    context={\"user_role\": \"expert\"}\n",
    ")\n",
    "result\n"
   ]
  },
  {
   "cell_type": "code",
   "execution_count": 24,
   "id": "14ffaddb",
   "metadata": {},
   "outputs": [
    {
     "data": {
      "text/plain": [
       "{'messages': [HumanMessage(content='Покажи, что в корзине', additional_kwargs={}, response_metadata={}, id='d2bfb2be-fe20-440f-b972-3dfa6be6f086'),\n",
       "  AIMessage(content='', additional_kwargs={'refusal': None}, response_metadata={'token_usage': {'completion_tokens': 18, 'prompt_tokens': 1546, 'total_tokens': 1564, 'completion_tokens_details': None, 'prompt_tokens_details': {'audio_tokens': None, 'cached_tokens': 1520}}, 'model_provider': 'openai', 'model_name': 'Qwen/Qwen3-235B-A22B-Instruct-2507', 'system_fingerprint': None, 'id': 'chatcmpl-c5ec340c-0401-497b-982b-3234166d16ae', 'finish_reason': 'tool_calls', 'logprobs': None}, id='lc_run--8ff98e44-4d58-433e-9502-fa697b51c485-0', tool_calls=[{'name': 'show_product_in_cart', 'args': {}, 'id': 'chatcmpl-tool-3c2c5bff93194727996d105a9232466d', 'type': 'tool_call'}], usage_metadata={'input_tokens': 1546, 'output_tokens': 18, 'total_tokens': 1564, 'input_token_details': {'cache_read': 1520}, 'output_token_details': {}}),\n",
       "  ToolMessage(content='{\"Сыр \\\\\"Гауда\\\\\"\": 500.0, \"Хлеб пшеничный из муки 1 сорта\": 300.0, \"Ветчина рубленая\": 400.0, \"Масло сливочное\": 300.0}', name='show_product_in_cart', id='b7e9d9f6-9fe3-4fd2-8a39-7818ccf92435', tool_call_id='chatcmpl-tool-3c2c5bff93194727996d105a9232466d'),\n",
       "  AIMessage(content='Вот что сейчас находится в вашей корзине 🛒:\\n\\n🧀 **Сыр \"Гауда\"** — 500.0 г  \\n🍞 **Хлеб пшеничный из муки 1 сорта** — 300.0 г  \\n🍖 **Ветчина рубленая** — 400.0 г  \\n🧈 **Масло сливочное** — 300.0 г\\n\\nОбщий вес продуктов: **1500 г (1.5 кг)**\\n\\nХотите:\\n- 📉 Удалить какой-то продукт?\\n- 🧹 Очистить корзину полностью?\\n- 📊 Получить информацию о питательной ценности этих продуктов?\\n\\nНапишите, что хотите сделать! 😊', additional_kwargs={'refusal': None}, response_metadata={'token_usage': {'completion_tokens': 181, 'prompt_tokens': 1651, 'total_tokens': 1832, 'completion_tokens_details': None, 'prompt_tokens_details': {'audio_tokens': None, 'cached_tokens': 1552}}, 'model_provider': 'openai', 'model_name': 'Qwen/Qwen3-235B-A22B-Instruct-2507', 'system_fingerprint': None, 'id': 'chatcmpl-ebe30186-f027-4162-a94d-503314e79c21', 'finish_reason': 'stop', 'logprobs': None}, id='lc_run--9de64c87-5e8a-462b-b802-bf1a1a31685f-0', usage_metadata={'input_tokens': 1651, 'output_tokens': 181, 'total_tokens': 1832, 'input_token_details': {'cache_read': 1552}, 'output_token_details': {}})]}"
      ]
     },
     "execution_count": 24,
     "metadata": {},
     "output_type": "execute_result"
    }
   ],
   "source": [
    "result = agent.invoke(\n",
    "    {\"messages\": [{\"role\": \"user\", \"content\": \"Покажи, что в корзине\"}]},\n",
    "    context={\"user_role\": \"expert\"}\n",
    ")\n",
    "result"
   ]
  },
  {
   "cell_type": "code",
   "execution_count": 25,
   "id": "4b621006",
   "metadata": {},
   "outputs": [
    {
     "data": {
      "text/plain": [
       "{'messages': [HumanMessage(content='Удали из корзины Хлеб пшеничный из муки 1 сорта, 200 грамм', additional_kwargs={}, response_metadata={}, id='9f16b210-33b8-4a03-969e-19d3c5db940e'),\n",
       "  AIMessage(content='', additional_kwargs={'refusal': None}, response_metadata={'token_usage': {'completion_tokens': 45, 'prompt_tokens': 1566, 'total_tokens': 1611, 'completion_tokens_details': None, 'prompt_tokens_details': {'audio_tokens': None, 'cached_tokens': 1520}}, 'model_provider': 'openai', 'model_name': 'Qwen/Qwen3-235B-A22B-Instruct-2507', 'system_fingerprint': None, 'id': 'chatcmpl-313fd071-791f-4557-9389-c248c22c8530', 'finish_reason': 'tool_calls', 'logprobs': None}, id='lc_run--96b41a58-8622-4233-a5c8-8eb8f49981ac-0', tool_calls=[{'name': 'remove_from_cart', 'args': {'product_name': 'Хлеб пшеничный из муки 1 сорта', 'amount': 200}, 'id': 'chatcmpl-tool-4318c8eab64b4c8ca02546c089d65479', 'type': 'tool_call'}], usage_metadata={'input_tokens': 1566, 'output_tokens': 45, 'total_tokens': 1611, 'input_token_details': {'cache_read': 1520}, 'output_token_details': {}}),\n",
       "  ToolMessage(content='null', name='remove_from_cart', id='21abf58d-77a2-4867-a127-e0e15f1f1502', tool_call_id='chatcmpl-tool-4318c8eab64b4c8ca02546c089d65479'),\n",
       "  AIMessage(content='Продукт **Хлеб пшеничный из муки 1 сорта** в количестве **200 грамм** успешно удалён из корзины! 🧺🗑️\\n\\nЕсли нужно — могу показать, что осталось в корзине или помочь с подбором других продуктов. 😊', additional_kwargs={'refusal': None}, response_metadata={'token_usage': {'completion_tokens': 81, 'prompt_tokens': 1625, 'total_tokens': 1706, 'completion_tokens_details': None, 'prompt_tokens_details': {'audio_tokens': None, 'cached_tokens': 1600}}, 'model_provider': 'openai', 'model_name': 'Qwen/Qwen3-235B-A22B-Instruct-2507', 'system_fingerprint': None, 'id': 'chatcmpl-7e3b537e-9a69-48b7-b92a-f6c5bfdd5696', 'finish_reason': 'stop', 'logprobs': None}, id='lc_run--cbf4f5d9-bc59-4e6a-ac8c-88d839fcd567-0', usage_metadata={'input_tokens': 1625, 'output_tokens': 81, 'total_tokens': 1706, 'input_token_details': {'cache_read': 1600}, 'output_token_details': {}})]}"
      ]
     },
     "execution_count": 25,
     "metadata": {},
     "output_type": "execute_result"
    }
   ],
   "source": [
    "result = agent.invoke(\n",
    "    {\"messages\": [{\"role\": \"user\", \"content\": \"Удали из корзины Хлеб пшеничный из муки 1 сорта, 200 грамм\"}]},\n",
    "    context={\"user_role\": \"expert\"}\n",
    ")\n",
    "result"
   ]
  },
  {
   "cell_type": "code",
   "execution_count": 26,
   "id": "bc88be63",
   "metadata": {},
   "outputs": [
    {
     "data": {
      "text/plain": [
       "{'messages': [HumanMessage(content='Удали из корзины Ветчина рубленая', additional_kwargs={}, response_metadata={}, id='f886061e-2ce5-4abd-b8a7-a490702287ad'),\n",
       "  AIMessage(content='', additional_kwargs={'refusal': None}, response_metadata={'token_usage': {'completion_tokens': 28, 'prompt_tokens': 1549, 'total_tokens': 1577, 'completion_tokens_details': None, 'prompt_tokens_details': {'audio_tokens': None, 'cached_tokens': 1536}}, 'model_provider': 'openai', 'model_name': 'Qwen/Qwen3-235B-A22B-Instruct-2507', 'system_fingerprint': None, 'id': 'chatcmpl-e0e078e6-f400-471f-91e1-26607efa7e91', 'finish_reason': 'tool_calls', 'logprobs': None}, id='lc_run--1d01a18e-d4ce-4b10-b9a5-bd64c9183a58-0', tool_calls=[{'name': 'remove_from_cart', 'args': {'product_name': 'Ветчина рубленая'}, 'id': 'chatcmpl-tool-652f09ffee46401b87e9bd41c5d211c1', 'type': 'tool_call'}], usage_metadata={'input_tokens': 1549, 'output_tokens': 28, 'total_tokens': 1577, 'input_token_details': {'cache_read': 1536}, 'output_token_details': {}}),\n",
       "  ToolMessage(content='null', name='remove_from_cart', id='cce2a9b4-75dc-4b96-ae34-4ee9e4a9c8ba', tool_call_id='chatcmpl-tool-652f09ffee46401b87e9bd41c5d211c1'),\n",
       "  AIMessage(content='Продукт **\"Ветчина рубленая\"** успешно удалён из корзины. ✅\\n\\nЕсли нужно — могу показать текущее содержимое корзины или помочь подобрать альтернативу! 🛒', additional_kwargs={'refusal': None}, response_metadata={'token_usage': {'completion_tokens': 59, 'prompt_tokens': 1591, 'total_tokens': 1650, 'completion_tokens_details': None, 'prompt_tokens_details': {'audio_tokens': None, 'cached_tokens': 1568}}, 'model_provider': 'openai', 'model_name': 'Qwen/Qwen3-235B-A22B-Instruct-2507', 'system_fingerprint': None, 'id': 'chatcmpl-34e7ec7b-426c-4459-89a9-1641017fc46a', 'finish_reason': 'stop', 'logprobs': None}, id='lc_run--0eb165c6-7aa0-4e87-b101-8cba6baacc00-0', usage_metadata={'input_tokens': 1591, 'output_tokens': 59, 'total_tokens': 1650, 'input_token_details': {'cache_read': 1568}, 'output_token_details': {}})]}"
      ]
     },
     "execution_count": 26,
     "metadata": {},
     "output_type": "execute_result"
    }
   ],
   "source": [
    "result = agent.invoke(\n",
    "    {\"messages\": [{\"role\": \"user\", \"content\": \"Удали из корзины Ветчина рубленая\"}]},\n",
    "    context={\"user_role\": \"expert\"}\n",
    ")\n",
    "result"
   ]
  },
  {
   "cell_type": "code",
   "execution_count": 27,
   "id": "fb4e47ca",
   "metadata": {},
   "outputs": [
    {
     "data": {
      "text/plain": [
       "{'messages': [HumanMessage(content='Покажи, что в корзине', additional_kwargs={}, response_metadata={}, id='52d461fb-0060-4f38-91db-49ba120ff22f'),\n",
       "  AIMessage(content='', additional_kwargs={'refusal': None}, response_metadata={'token_usage': {'completion_tokens': 18, 'prompt_tokens': 1546, 'total_tokens': 1564, 'completion_tokens_details': None, 'prompt_tokens_details': {'audio_tokens': None, 'cached_tokens': 1536}}, 'model_provider': 'openai', 'model_name': 'Qwen/Qwen3-235B-A22B-Instruct-2507', 'system_fingerprint': None, 'id': 'chatcmpl-851b3dea-bb5b-4385-a8de-c16875be29c0', 'finish_reason': 'tool_calls', 'logprobs': None}, id='lc_run--e8c8af26-d2bd-426f-b36d-24080cf9768a-0', tool_calls=[{'name': 'show_product_in_cart', 'args': {}, 'id': 'chatcmpl-tool-7e509d8891ed4fff80666878d248d56a', 'type': 'tool_call'}], usage_metadata={'input_tokens': 1546, 'output_tokens': 18, 'total_tokens': 1564, 'input_token_details': {'cache_read': 1536}, 'output_token_details': {}}),\n",
       "  ToolMessage(content='{\"Сыр \\\\\"Гауда\\\\\"\": 500.0, \"Хлеб пшеничный из муки 1 сорта\": 100.0, \"Масло сливочное\": 300.0}', name='show_product_in_cart', id='3cd3e524-8d25-4d15-ab84-c26b6f1c5f88', tool_call_id='chatcmpl-tool-7e509d8891ed4fff80666878d248d56a'),\n",
       "  AIMessage(content='Вот что сейчас находится в вашей корзине 🛒:\\n\\n🧀 **Сыр \"Гауда\"** — 500.0 г  \\n🍞 **Хлеб пшеничный из муки 1 сорта** — 100.0 г  \\n🧈 **Масло сливочное** — 300.0 г\\n\\nХотите добавить ещё что-то, удалить продукт или получить информацию о составе этих продуктов? 😊', additional_kwargs={'refusal': None}, response_metadata={'token_usage': {'completion_tokens': 111, 'prompt_tokens': 1635, 'total_tokens': 1746, 'completion_tokens_details': None, 'prompt_tokens_details': {'audio_tokens': None, 'cached_tokens': 1600}}, 'model_provider': 'openai', 'model_name': 'Qwen/Qwen3-235B-A22B-Instruct-2507', 'system_fingerprint': None, 'id': 'chatcmpl-fdf83f21-5475-4111-a594-8dba15178c7c', 'finish_reason': 'stop', 'logprobs': None}, id='lc_run--3f4f5c21-6c5c-429b-b95f-92ccd8c4f992-0', usage_metadata={'input_tokens': 1635, 'output_tokens': 111, 'total_tokens': 1746, 'input_token_details': {'cache_read': 1600}, 'output_token_details': {}})]}"
      ]
     },
     "execution_count": 27,
     "metadata": {},
     "output_type": "execute_result"
    }
   ],
   "source": [
    "result = agent.invoke(\n",
    "    {\"messages\": [{\"role\": \"user\", \"content\": \"Покажи, что в корзине\"}]},\n",
    "    context={\"user_role\": \"expert\"}\n",
    ")\n",
    "result"
   ]
  }
 ],
 "metadata": {
  "kernelspec": {
   "display_name": "venv",
   "language": "python",
   "name": "python3"
  },
  "language_info": {
   "codemirror_mode": {
    "name": "ipython",
    "version": 3
   },
   "file_extension": ".py",
   "mimetype": "text/x-python",
   "name": "python",
   "nbconvert_exporter": "python",
   "pygments_lexer": "ipython3",
   "version": "3.13.0"
  }
 },
 "nbformat": 4,
 "nbformat_minor": 5
}
